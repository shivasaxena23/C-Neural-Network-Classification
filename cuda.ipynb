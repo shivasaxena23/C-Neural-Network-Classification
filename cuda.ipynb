{
 "cells": [
  {
   "cell_type": "code",
   "execution_count": 1,
   "metadata": {},
   "outputs": [],
   "source": [
    "import torch\n",
    "import pandas as pd\n",
    "from sklearn.model_selection import train_test_split\n",
    "import torch.nn as nn\n",
    "from torch.autograd import Variable\n",
    "import numpy as np\n",
    "from numpy import *"
   ]
  },
  {
   "cell_type": "code",
   "execution_count": 2,
   "metadata": {},
   "outputs": [],
   "source": [
    "data=pd.read_csv(\"/Users/jarvis/Downloads/csv_result-1year.csv\")\n",
    "data=data[data!='?']"
   ]
  },
  {
   "cell_type": "code",
   "execution_count": 3,
   "metadata": {},
   "outputs": [
    {
     "data": {
      "text/plain": [
       "pandas.core.series.Series"
      ]
     },
     "execution_count": 3,
     "metadata": {},
     "output_type": "execute_result"
    }
   ],
   "source": [
    "da=data[\"class\"]\n",
    "type(da)\n",
    "\n",
    "\n",
    "\n",
    "\n"
   ]
  },
  {
   "cell_type": "code",
   "execution_count": 4,
   "metadata": {},
   "outputs": [
    {
     "data": {
      "text/plain": [
       "numpy.ndarray"
      ]
     },
     "execution_count": 4,
     "metadata": {},
     "output_type": "execute_result"
    }
   ],
   "source": [
    "da=da.values\n",
    "type(da)"
   ]
  },
  {
   "cell_type": "code",
   "execution_count": 5,
   "metadata": {},
   "outputs": [],
   "source": [
    "da=da.reshape([7027,1])\n"
   ]
  },
  {
   "cell_type": "code",
   "execution_count": 6,
   "metadata": {},
   "outputs": [],
   "source": [
    "data=data.iloc[:,:65]\n",
    "data=data.values"
   ]
  },
  {
   "cell_type": "code",
   "execution_count": 7,
   "metadata": {},
   "outputs": [],
   "source": [
    "x_train, x_test, y_train, y_test = train_test_split(data, da, test_size=0.2, random_state=42)\n",
    "\n"
   ]
  },
  {
   "cell_type": "code",
   "execution_count": 44,
   "metadata": {},
   "outputs": [],
   "source": [
    "model = nn.Sequential(nn.Linear(65, 100),\n",
    "                     nn.ReLU(),\n",
    "                     nn.Linear(100, 1),\n",
    "                     nn.Hardtanh(0,1))\n",
    "\n",
    "criterion = torch.nn.BCELoss()\n",
    "optimizer = torch.optim.SGD(model.parameters(), lr=0.01)"
   ]
  },
  {
   "cell_type": "code",
   "execution_count": 9,
   "metadata": {},
   "outputs": [],
   "source": [
    "x_train = torch.tensor(x_train.astype(np.float32))"
   ]
  },
  {
   "cell_type": "code",
   "execution_count": 10,
   "metadata": {},
   "outputs": [],
   "source": [
    "y_train = torch.tensor(y_train.astype(np.float32))"
   ]
  },
  {
   "cell_type": "code",
   "execution_count": 45,
   "metadata": {},
   "outputs": [
    {
     "name": "stdout",
     "output_type": "stream",
     "text": [
      "epoch:  0  loss:  18.146047592163086\n",
      "epoch:  1  loss:  26.549972534179688\n",
      "epoch:  2  loss:  26.549972534179688\n",
      "epoch:  3  loss:  26.549972534179688\n",
      "epoch:  4  loss:  26.549972534179688\n",
      "epoch:  5  loss:  26.549972534179688\n",
      "epoch:  6  loss:  26.549972534179688\n",
      "epoch:  7  loss:  26.549972534179688\n",
      "epoch:  8  loss:  26.549972534179688\n",
      "epoch:  9  loss:  26.549972534179688\n",
      "epoch:  10  loss:  26.549972534179688\n",
      "epoch:  11  loss:  26.549972534179688\n",
      "epoch:  12  loss:  26.549972534179688\n",
      "epoch:  13  loss:  26.549972534179688\n",
      "epoch:  14  loss:  26.549972534179688\n",
      "epoch:  15  loss:  26.549972534179688\n",
      "epoch:  16  loss:  26.549972534179688\n",
      "epoch:  17  loss:  26.549972534179688\n",
      "epoch:  18  loss:  26.549972534179688\n",
      "epoch:  19  loss:  26.549972534179688\n",
      "epoch:  20  loss:  26.549972534179688\n",
      "epoch:  21  loss:  26.549972534179688\n",
      "epoch:  22  loss:  26.549972534179688\n",
      "epoch:  23  loss:  26.549972534179688\n",
      "epoch:  24  loss:  26.549972534179688\n",
      "epoch:  25  loss:  26.549972534179688\n",
      "epoch:  26  loss:  26.549972534179688\n",
      "epoch:  27  loss:  26.549972534179688\n",
      "epoch:  28  loss:  26.549972534179688\n",
      "epoch:  29  loss:  26.549972534179688\n",
      "epoch:  30  loss:  26.549972534179688\n",
      "epoch:  31  loss:  26.549972534179688\n",
      "epoch:  32  loss:  26.549972534179688\n",
      "epoch:  33  loss:  26.549972534179688\n",
      "epoch:  34  loss:  26.549972534179688\n",
      "epoch:  35  loss:  26.549972534179688\n",
      "epoch:  36  loss:  26.549972534179688\n",
      "epoch:  37  loss:  26.549972534179688\n",
      "epoch:  38  loss:  26.549972534179688\n",
      "epoch:  39  loss:  26.549972534179688\n",
      "epoch:  40  loss:  26.549972534179688\n",
      "epoch:  41  loss:  26.549972534179688\n",
      "epoch:  42  loss:  26.549972534179688\n",
      "epoch:  43  loss:  26.549972534179688\n",
      "epoch:  44  loss:  26.549972534179688\n",
      "epoch:  45  loss:  26.549972534179688\n",
      "epoch:  46  loss:  26.549972534179688\n",
      "epoch:  47  loss:  26.549972534179688\n",
      "epoch:  48  loss:  26.549972534179688\n",
      "epoch:  49  loss:  26.549972534179688\n"
     ]
    }
   ],
   "source": [
    "for epoch in range(50):\n",
    "    # Forward Propagation\n",
    "    y_pred = model(x_train)\n",
    "    #y_pred[5620]=0\n",
    "    # Compute and print loss\n",
    "    loss = criterion(y_pred, y_train)\n",
    "    print('epoch: ', epoch,' loss: ', loss.item())\n",
    "    # Zero the gradients\n",
    "    optimizer.zero_grad()\n",
    "    \n",
    "    # perform a backward pass (backpropagation)\n",
    "    loss.backward()\n",
    "    \n",
    "    # Update the parameters\n",
    "    optimizer.step()"
   ]
  }
 ],
 "metadata": {
  "kernelspec": {
   "display_name": "Python 3",
   "language": "python",
   "name": "python3"
  },
  "language_info": {
   "codemirror_mode": {
    "name": "ipython",
    "version": 3
   },
   "file_extension": ".py",
   "mimetype": "text/x-python",
   "name": "python",
   "nbconvert_exporter": "python",
   "pygments_lexer": "ipython3",
   "version": "3.6.7"
  }
 },
 "nbformat": 4,
 "nbformat_minor": 2
}
